{
 "cells": [
  {
   "cell_type": "code",
   "execution_count": 1,
   "metadata": {},
   "outputs": [
    {
     "name": "stdout",
     "output_type": "stream",
     "text": [
      "{98, 35, 213, 54, 119, 15}\n"
     ]
    }
   ],
   "source": [
    "#Домашнее задание к лекции «Управляющие конструкции и коллекции» часть 2\n",
    "\n",
    "#Task #1 - has not been changed\n",
    "\n",
    "ids = {\n",
    "'user1': [213, 213, 213, 15, 213],\n",
    "'user2': [54, 54, 119, 119, 119],\n",
    "'user3': [213, 98, 98, 35]\n",
    "}\n",
    "\n",
    "lists1 = list(ids.values())\n",
    "for i in range(0, len(lists1)):\n",
    "    if i == 0:\n",
    "        set_united = set(lists1[0])\n",
    "    else:\n",
    "        set_united = set_united.union(set(lists1[i]))\n",
    "print(set_united)"
   ]
  },
  {
   "cell_type": "code",
   "execution_count": 3,
   "metadata": {},
   "outputs": [
    {
     "name": "stdout",
     "output_type": "stream",
     "text": [
      "Поисковых запросов, содержащих 2 слов(а):  42.86  %\n",
      "Поисковых запросов, содержащих 3 слов(а):  57.14  %\n"
     ]
    }
   ],
   "source": [
    "#Task #2 - redone as suggested\n",
    "\n",
    "queries = [\n",
    "'смотреть сериалы онлайн',\n",
    "'новости спорта',\n",
    "'афиша кино',\n",
    "'курс доллара',\n",
    "'сериалы этим летом',\n",
    "'курс по питону',\n",
    "'сериалы про спорт'\n",
    "]\n",
    "\n",
    "#The setdefault() method returns the value of a key (if the key is in dictionary). If not, it inserts key with a value to the dictionary\n",
    "sum_requests = 0\n",
    "dictionary1 = {}\n",
    "dictionary_main = {}\n",
    "for element in queries:\n",
    "    new_element = element.split()\n",
    "    number_of_words = len(new_element)\n",
    "    dictionary1.setdefault(number_of_words, []).append(element)\n",
    "    sum_requests = sum_requests + 1\n",
    "dictionary_main.update(sorted(dictionary1.items()))\n",
    "\n",
    "\n",
    "for key, val in dictionary_main.items():\n",
    "    print(f\"Поисковых запросов, содержащих {key} слов(а): \", \"{:.2f}\".format((len(val) * 100 / sum_requests)), \" %\")"
   ]
  },
  {
   "cell_type": "code",
   "execution_count": 4,
   "metadata": {},
   "outputs": [
    {
     "name": "stdout",
     "output_type": "stream",
     "text": [
      "adwords :  {'revenue': 35, 'cost': 34, 'ROI': 2.94}\n",
      "facebook :  {'revenue': 103, 'cost': 110, 'ROI': -6.36}\n",
      "twitter :  {'revenue': 11, 'cost': 24, 'ROI': -54.17}\n",
      "vk :  {'revenue': 103, 'cost': 98, 'ROI': 5.1}\n",
      "yandex :  {'revenue': 179, 'cost': 153, 'ROI': 16.99}\n"
     ]
    }
   ],
   "source": [
    "#Task #3 - has not been changed\n",
    "results = {\n",
    "'vk': {'revenue': 103, 'cost': 98},\n",
    "'yandex': {'revenue': 179, 'cost': 153},\n",
    "'facebook': {'revenue': 103, 'cost': 110},\n",
    "'adwords': {'revenue': 35, 'cost': 34},\n",
    "'twitter': {'revenue': 11, 'cost': 24}\n",
    "}\n",
    "\n",
    "for p_id in results.keys():\n",
    "    results[p_id]['ROI'] = round(((results[p_id]['revenue']/results[p_id]['cost'])-1)*100, 2)\n",
    "\n",
    "#print(results)\n",
    "results_items = results.items()\n",
    "sorted_results = dict(sorted(results_items))\n",
    "for k, v in sorted_results.items():\n",
    "    print(k,': ', v)\n"
   ]
  },
  {
   "cell_type": "code",
   "execution_count": 7,
   "metadata": {},
   "outputs": [
    {
     "name": "stdout",
     "output_type": "stream",
     "text": [
      "Максимальный объем продаж на рекламном канале:  vk\n"
     ]
    }
   ],
   "source": [
    "#Task #4 - 2 additional scenarios of reasization has been added\n",
    "\n",
    "#---------- Example #1 how Task 4 can be resolved -           initially added\n",
    "#sorting dictionary by value - Method 2\n",
    "\n",
    "#stats = {'facebook': 55, 'yandex': 115, 'vk': 120, 'google': 99, 'email': 42, 'ok': 98}\n",
    "#sort_dict = sorted(((value, key) for (key,value) in stats.items()), reverse = True)\n",
    "#print(\"Максимальный объем продаж на рекламном канале: \", sort_dict[0][1])\n",
    "\n",
    "#---------- Example #2 how Task 4 can be resolved -           newly added\n",
    "\n",
    "#stats = {'facebook': 55, 'yandex': 115, 'vk': 120, 'google': 99, 'email': 42, 'ok': 98}\n",
    "#max_key = None\n",
    "#if bool(stats):\n",
    "#   max_key = max(stats, key=stats.get)\n",
    "#print(\"Максимальный объем продаж на рекламном канале: \", max_key)\n",
    "\n",
    "#---------- Example #3 how Task 4 can be resolved -           newly added\n",
    "\n",
    "stats = {'facebook': 55, 'yandex': 115, 'vk': 120, 'google': 99, 'email': 42, 'ok': 98}\n",
    "\n",
    "mx = max(stats.values())\n",
    "for k, v in stats.items():\n",
    "    if v == mx:\n",
    "        print(\"Максимальный объем продаж на рекламном канале: \", k)\n"
   ]
  },
  {
   "cell_type": "code",
   "execution_count": 9,
   "metadata": {},
   "outputs": [
    {
     "name": "stdout",
     "output_type": "stream",
     "text": [
      "{'2018-01-01': {'yandex': {'cpc': 100}}}\n"
     ]
    }
   ],
   "source": [
    "#Task #5 - has not been changed\n",
    "\n",
    "my_list = ['2018-01-01', 'yandex', 'cpc', 100]\n",
    "#my_list = ['a', 'b', 'c', 'd', 'e', 'f']\n",
    "\n",
    "def list2dict(src_list):\n",
    "    if len(src_list) > 1:\n",
    "        #print(\"!!!! \", len(src_list))\n",
    "        return {src_list[0]: list2dict(src_list[1:])}\n",
    "    else:\n",
    "        return src_list[0]\n",
    "\n",
    "print(list2dict(my_list))"
   ]
  },
  {
   "cell_type": "code",
   "execution_count": 11,
   "metadata": {},
   "outputs": [
    {
     "name": "stdout",
     "output_type": "stream",
     "text": [
      "Введите количество порций: \n",
      "3\n",
      "Сыр :  210   гр  \n",
      "Томаты :  6   шт  \n",
      "Огурцы :  60   гр  \n",
      "Маслины :  30   гр  \n",
      "Оливковое масло :  60   мл  \n",
      "Салат :  30   гр  \n",
      "Перец :  60   гр  \n",
      "Колбаса :  90   гр  \n",
      "Бекон :  90   гр  \n",
      "Оливки :  30   гр  \n",
      "Томаты :  60   гр  \n",
      "Тесто :  300   гр  \n",
      "Лимон :  3   шт  \n",
      "Вода :  600   мл  \n",
      "Сахар :  30   гр  \n",
      "Лайм :  60   гр  \n"
     ]
    }
   ],
   "source": [
    "#Task #6 - redone \n",
    "\n",
    "cook_book = {\n",
    "'салат': [\n",
    "{'ingridient_name': 'сыр', 'quantity': 50, 'measure': 'гр'},\n",
    "{'ingridient_name': 'томаты', 'quantity': 2, 'measure': 'шт'},\n",
    "{'ingridient_name': 'огурцы', 'quantity': 20, 'measure': 'гр'},\n",
    "{'ingridient_name': 'маслины', 'quantity': 10, 'measure': 'гр'},\n",
    "{'ingridient_name': 'оливковое масло', 'quantity': 20, 'measure': 'мл'},\n",
    "{'ingridient_name': 'салат', 'quantity': 10, 'measure': 'гр'},\n",
    "{'ingridient_name': 'перец', 'quantity': 20, 'measure': 'гр'}\n",
    "],\n",
    "'пицца': [\n",
    "{'ingridient_name': 'сыр', 'quantity': 20, 'measure': 'гр'},\n",
    "{'ingridient_name': 'колбаса', 'quantity': 30, 'measure': 'гр'},\n",
    "{'ingridient_name': 'бекон', 'quantity': 30, 'measure': 'гр'},\n",
    "{'ingridient_name': 'оливки', 'quantity': 10, 'measure': 'гр'},\n",
    "{'ingridient_name': 'томаты', 'quantity': 20, 'measure': 'гр'},\n",
    "{'ingridient_name': 'тесто', 'quantity': 100, 'measure': 'гр'}\n",
    "],\n",
    "'лимонад': [\n",
    "{'ingridient_name': 'лимон', 'quantity': 1, 'measure': 'шт'},\n",
    "{'ingridient_name': 'вода', 'quantity': 200, 'measure': 'мл'},\n",
    "{'ingridient_name': 'сахар', 'quantity': 10, 'measure': 'гр'},\n",
    "{'ingridient_name': 'лайм', 'quantity': 20, 'measure': 'гр'}\n",
    "]\n",
    "}\n",
    "\n",
    "portions_number = int(input(\"Введите количество порций: \\n\"))\n",
    "\n",
    "#--------- splitting into keys and values (list of list of dictionaries)\n",
    "keys_ = []\n",
    "values_ = []\n",
    "for key,value in cook_book.items():\n",
    "    keys_.append(key)\n",
    "    for v in value:\n",
    "        values_.append(v)\n",
    "\n",
    "list3 = []\n",
    "index = 0\n",
    "for element1 in values_:\n",
    "    if index == 0:\n",
    "        list3.append(element1)\n",
    "        index = index + 1\n",
    "    else:\n",
    "        if_to_add_index = True\n",
    "        for element2 in list3:\n",
    "            if (element1['ingridient_name'] == element2['ingridient_name']) and (element1['measure'] == element2['measure']):\n",
    "                element2['quantity'] = (element2['quantity'] + element1['quantity']) * portions_number\n",
    "                if_to_add_index = False\n",
    "        if if_to_add_index == True:\n",
    "            element1['quantity'] = element1['quantity'] * portions_number\n",
    "            list3.append(element1)\n",
    "\n",
    "for elem in list3:\n",
    "    print(elem['ingridient_name'].capitalize(),\": \",elem['quantity'],\" \",elem['measure'], end = \" \")\n",
    "    print(\" \")"
   ]
  },
  {
   "cell_type": "code",
   "execution_count": null,
   "metadata": {},
   "outputs": [],
   "source": []
  }
 ],
 "metadata": {
  "kernelspec": {
   "display_name": "Python 3",
   "language": "python",
   "name": "python3"
  },
  "language_info": {
   "codemirror_mode": {
    "name": "ipython",
    "version": 3
   },
   "file_extension": ".py",
   "mimetype": "text/x-python",
   "name": "python",
   "nbconvert_exporter": "python",
   "pygments_lexer": "ipython3",
   "version": "3.8.5"
  }
 },
 "nbformat": 4,
 "nbformat_minor": 4
}
