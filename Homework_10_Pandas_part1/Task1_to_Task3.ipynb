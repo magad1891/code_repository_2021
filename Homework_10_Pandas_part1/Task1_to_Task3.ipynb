{
 "cells": [
  {
   "cell_type": "code",
   "execution_count": 2,
   "metadata": {},
   "outputs": [
    {
     "name": "stdout",
     "output_type": "stream",
     "text": [
      "Movie  'Shawshank Redemption, The (1994)'  has the highest number 153 of rating 5\n"
     ]
    }
   ],
   "source": [
    "# Домашнее задание \"Библиотека Pandas\"\n",
    "\n",
    "import pandas as pd\n",
    "\n",
    "# Task #1\n",
    "\n",
    "ratings_1 = pd.read_csv(\"ratings.csv\")\n",
    "\n",
    "subset_1 = ratings_1[ratings_1[\"rating\"] == 5]\n",
    "\n",
    "subset_2 = subset_1.groupby(['movieId'])['rating'].count().reset_index(name = 'count_val')\n",
    "\n",
    "row_max = subset_2[subset_2['count_val']==subset_2['count_val'].max()]\n",
    "list_1 = row_max.values.tolist()\n",
    "movieID = list_1[0][0]\n",
    "#print(movieID)\n",
    "\n",
    "movies_1 = pd.read_csv(\"movies.csv\")\n",
    "#print(movies_1.head(10))\n",
    "\n",
    "sub_set = movies_1[movies_1['movieId'] == movieID]\n",
    "list_2 = sub_set.values.tolist()\n",
    "print(f\"Movie  '{list_2[0][1]}'  has the highest number {list_1[0][1]} of rating 5\")"
   ]
  },
  {
   "cell_type": "code",
   "execution_count": 5,
   "metadata": {},
   "outputs": [
    {
     "name": "stdout",
     "output_type": "stream",
     "text": [
      "Суммарное потребление Латвии, Литвы и Эстонии категорий 4, 12 и 21 за период с 2005 по 2010 год -  240580.0\n"
     ]
    }
   ],
   "source": [
    "#Task 2\n",
    "\n",
    "data_1 = pd.read_csv(\"power.csv\")\n",
    "\n",
    "filtered_countries_1 = data_1[ (data_1['country'] == 'Latvia') | (data_1['country'] == 'Lithuania') | (data_1['country'] == 'Estonia') ]\n",
    "\n",
    "filtered_countries_1 = filtered_countries_1[ (filtered_countries_1['year'] >= 2005) & (filtered_countries_1['year'] <= 2010) ]\n",
    "\n",
    "filtered_countries_1 = filtered_countries_1[ (filtered_countries_1['category'] == 4) | (filtered_countries_1['category'] == 12) | (filtered_countries_1['category'] == 21) ]\n",
    "\n",
    "filtered_countries_2 = filtered_countries_1[ (filtered_countries_1['quantity'] >= 0) ]\n",
    "sum_val = filtered_countries_2['quantity'].sum()\n",
    "print(\"Суммарное потребление Латвии, Литвы и Эстонии категорий 4, 12 и 21 за период с 2005 по 2010 год - \", sum_val)\n"
   ]
  },
  {
   "cell_type": "code",
   "execution_count": 6,
   "metadata": {},
   "outputs": [
    {
     "name": "stdout",
     "output_type": "stream",
     "text": [
      "    Year     Office    GOP    DFL Others\n",
      "0   2020  President  45.3%  52.4%   2.3%\n",
      "1   2020    Senator  43.5%  48.8%   7.7%\n",
      "2   2018   Governor  42.4%  53.9%   3.7%\n",
      "3   2018    Senator  36.2%  60.3%   3.4%\n",
      "4   2018    Senator  42.4%  53.0%   4.6%\n",
      "5   2016  President  44.9%  46.4%   8.6%\n",
      "6   2014   Governor  44.5%  50.1%   5.4%\n",
      "7   2014    Senator  42.9%  53.2%   3.9%\n",
      "8   2012  President  45.1%  52.8%   2.1%\n",
      "9   2012    Senator  30.6%  65.3%   4.1%\n",
      "10  2010   Governor  43.2%  43.7%  13.1%\n",
      "11  2008  President  43.8%  54.1%   2.1%\n",
      "12  2008    Senator  42.0%  42.0%  16.0%\n",
      "13  2006   Governor  46.7%  45.7%   7.6%\n",
      "14  2006    Senator  37.9%  58.1%   4.0%\n",
      "15  2004  President  47.6%  51.1%   1.3%\n",
      "16  2002   Governor  44.4%  33.5%  22.1%\n",
      "17  2002    Senator  49.5%  47.3%   1.0%\n",
      "18  2000  President  45.5%  47.9%   6.6%\n",
      "19  2000    Senator  43.3%  48.8%   7.9%\n",
      "20  1998   Governor  34.3%  28.1%  37.6%\n",
      "21  1996  President  35.0%  51.1%  13.9%\n",
      "22  1996    Senator  41.3%  50.3%   8.4%\n",
      "23  1994   Governor  63.3%  34.1%   2.6%\n",
      "24  1994    Senator  49.1%  44.1%   6.8%\n",
      "25  1992  President  31.9%  43.5%  24.6%\n",
      "<class 'pandas.core.frame.DataFrame'>\n",
      "RangeIndex: 26 entries, 0 to 25\n",
      "Data columns (total 5 columns):\n",
      " #   Column  Non-Null Count  Dtype \n",
      "---  ------  --------------  ----- \n",
      " 0   Year    26 non-null     int64 \n",
      " 1   Office  26 non-null     object\n",
      " 2   GOP     26 non-null     object\n",
      " 3   DFL     26 non-null     object\n",
      " 4   Others  26 non-null     object\n",
      "dtypes: int64(1), object(4)\n",
      "memory usage: 688.0+ bytes\n",
      "None\n",
      "0     President\n",
      "1       Senator\n",
      "2      Governor\n",
      "3       Senator\n",
      "4       Senator\n",
      "5     President\n",
      "6      Governor\n",
      "7       Senator\n",
      "8     President\n",
      "9       Senator\n",
      "10     Governor\n",
      "11    President\n",
      "12      Senator\n",
      "13     Governor\n",
      "14      Senator\n",
      "15    President\n",
      "16     Governor\n",
      "17      Senator\n",
      "18    President\n",
      "19      Senator\n",
      "20     Governor\n",
      "21    President\n",
      "22      Senator\n",
      "23     Governor\n",
      "24      Senator\n",
      "25    President\n",
      "Name: Office, dtype: object\n"
     ]
    }
   ],
   "source": [
    "#Task #3 -\n",
    "\n",
    "url = 'https://en.wikipedia.org/wiki/Minnesota'\n",
    "dfs = pd.read_html(url)\n",
    "\n",
    "print(dfs[6])\n",
    "\n",
    "print(dfs[6].info())\n",
    "print(dfs[6]['Office'])\n"
   ]
  },
  {
   "cell_type": "code",
   "execution_count": null,
   "metadata": {},
   "outputs": [],
   "source": []
  }
 ],
 "metadata": {
  "kernelspec": {
   "display_name": "Python 3",
   "language": "python",
   "name": "python3"
  },
  "language_info": {
   "codemirror_mode": {
    "name": "ipython",
    "version": 3
   },
   "file_extension": ".py",
   "mimetype": "text/x-python",
   "name": "python",
   "nbconvert_exporter": "python",
   "pygments_lexer": "ipython3",
   "version": "3.8.5"
  }
 },
 "nbformat": 4,
 "nbformat_minor": 4
}
