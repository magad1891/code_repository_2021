{
 "cells": [
  {
   "cell_type": "code",
   "execution_count": 20,
   "metadata": {},
   "outputs": [
    {
     "name": "stdout",
     "output_type": "stream",
     "text": [
      "Please enter several numbers divided by space 1 2 3 4 5 1 2 3\n",
      "1 2 3\n"
     ]
    }
   ],
   "source": [
    "#Домашнее задание к лекции \"Введение в типы данных и циклы. Часть 1\"\n",
    "\n",
    "#Task #6\n",
    "numbers = input(\"Please enter several numbers divided by space \")\n",
    "#to remove space between numbers in the list\n",
    "numbers = numbers.split()\n",
    "numbers_list = list(numbers)\n",
    "doble_numbers = []\n",
    "\n",
    "count = 0\n",
    "for i in range (0, len(numbers_list)):\n",
    "    for j in range (0, len(numbers_list)):\n",
    "        if numbers_list[i] == numbers_list[j]:\n",
    "            count = count + 1\n",
    "            if (count == 2):\n",
    "                if (numbers_list[i] not in doble_numbers):\n",
    "                    doble_numbers.append(numbers_list[i])\n",
    "                break\n",
    "    count =  0\n",
    "\n",
    "#to convert list to str with speaces in between\n",
    "listToStr = ' '.join([str(elem) for elem in sorted(doble_numbers)])\n",
    "print(listToStr)"
   ]
  },
  {
   "cell_type": "code",
   "execution_count": null,
   "metadata": {},
   "outputs": [],
   "source": []
  },
  {
   "cell_type": "code",
   "execution_count": null,
   "metadata": {},
   "outputs": [],
   "source": [
    "0\n"
   ]
  }
 ],
 "metadata": {
  "kernelspec": {
   "display_name": "Python 3",
   "language": "python",
   "name": "python3"
  },
  "language_info": {
   "codemirror_mode": {
    "name": "ipython",
    "version": 3
   },
   "file_extension": ".py",
   "mimetype": "text/x-python",
   "name": "python",
   "nbconvert_exporter": "python",
   "pygments_lexer": "ipython3",
   "version": "3.8.5"
  }
 },
 "nbformat": 4,
 "nbformat_minor": 4
}
