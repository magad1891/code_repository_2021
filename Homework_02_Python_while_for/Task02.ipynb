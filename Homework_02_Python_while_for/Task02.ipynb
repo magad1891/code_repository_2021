{
 "cells": [
  {
   "cell_type": "code",
   "execution_count": 7,
   "metadata": {},
   "outputs": [
    {
     "name": "stdout",
     "output_type": "stream",
     "text": [
      "Пожалуйста, введите одно число и нажмите Enter (0 прекратит выполнение программы): 1\n",
      "Пожалуйста, введите одно число и нажмите Enter (0 прекратит выполнение программы): 0\n",
      "0 был введен. Программа остановлена\n",
      "Сумма введенных ненулевых чисел 1.0\n"
     ]
    }
   ],
   "source": [
    "#Домашнее задание к лекции \"Введение в типы данных и циклы. Часть 1\"\n",
    "\n",
    "#Task #2\n",
    "user_number = None\n",
    "numbers_sum = 0\n",
    "while (user_number != 0):\n",
    "    user_number = float(input(\"Пожалуйста, введите одно число и нажмите Enter (0 прекратит выполнение программы): \"))\n",
    "    numbers_sum = numbers_sum + user_number\n",
    "    \n",
    "print(\"0 был введен. Программа остановлена\")\n",
    "print(f\"Сумма введенных ненулевых чисел {numbers_sum}\")"
   ]
  },
  {
   "cell_type": "code",
   "execution_count": null,
   "metadata": {},
   "outputs": [],
   "source": []
  },
  {
   "cell_type": "code",
   "execution_count": null,
   "metadata": {},
   "outputs": [],
   "source": [
    "0\n"
   ]
  }
 ],
 "metadata": {
  "kernelspec": {
   "display_name": "Python 3",
   "language": "python",
   "name": "python3"
  },
  "language_info": {
   "codemirror_mode": {
    "name": "ipython",
    "version": 3
   },
   "file_extension": ".py",
   "mimetype": "text/x-python",
   "name": "python",
   "nbconvert_exporter": "python",
   "pygments_lexer": "ipython3",
   "version": "3.8.5"
  }
 },
 "nbformat": 4,
 "nbformat_minor": 4
}
