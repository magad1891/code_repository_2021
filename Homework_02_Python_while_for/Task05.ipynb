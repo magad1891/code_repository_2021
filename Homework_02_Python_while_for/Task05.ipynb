{
 "cells": [
  {
   "cell_type": "code",
   "execution_count": 15,
   "metadata": {},
   "outputs": [
    {
     "name": "stdout",
     "output_type": "stream",
     "text": [
      "Среднее количество просмотров на уникального пользователя 23.25\n"
     ]
    }
   ],
   "source": [
    "#Домашнее задание к лекции \"Введение в типы данных и циклы. Часть 1\"\n",
    "\n",
    "#Task #5\n",
    "stream = [\n",
    "'2018-01-01,user1,3',\n",
    "'2018-01-07,user1,4',\n",
    "'2018-03-29,user1,1',\n",
    "'2018-04-04,user1,13',\n",
    "'2018-01-05,user2,7',\n",
    "'2018-06-14,user3,4',\n",
    "'2018-07-02,user3,10',\n",
    "'2018-03-21,user4,19',\n",
    "'2018-03-22,user4,4',\n",
    "'2018-04-22,user4,8',\n",
    "'2018-05-03,user4,9',\n",
    "'2018-05-11,user4,11',\n",
    "]\n",
    "\n",
    "#stream = [\n",
    "#'2018-01-01,user100,150',\n",
    "#'2018-01-07,user99,205',\n",
    "#'2018-03-29,user1001,81'\n",
    "#]\n",
    "\n",
    "x=0\n",
    "views_sum = 0\n",
    "user_count = 1\n",
    "user_name = []\n",
    "view_count = []\n",
    "while (x < len(stream)):\n",
    "    stream[x] = stream[x].split(',')\n",
    "    user_name.append(stream[x][1])\n",
    "    view_count.append(int(stream[x][2]))\n",
    "    views_sum = views_sum + view_count[x]\n",
    "    if (x >= 1) and (user_name[x] != user_name[x-1]):\n",
    "        user_count = user_count+1\n",
    "    x = x + 1\n",
    "\n",
    "print(f\"Среднее количество просмотров на уникального пользователя {views_sum/user_count}\")"
   ]
  },
  {
   "cell_type": "code",
   "execution_count": null,
   "metadata": {},
   "outputs": [],
   "source": []
  },
  {
   "cell_type": "code",
   "execution_count": null,
   "metadata": {},
   "outputs": [],
   "source": [
    "0\n"
   ]
  }
 ],
 "metadata": {
  "kernelspec": {
   "display_name": "Python 3",
   "language": "python",
   "name": "python3"
  },
  "language_info": {
   "codemirror_mode": {
    "name": "ipython",
    "version": 3
   },
   "file_extension": ".py",
   "mimetype": "text/x-python",
   "name": "python",
   "nbconvert_exporter": "python",
   "pygments_lexer": "ipython3",
   "version": "3.8.5"
  }
 },
 "nbformat": 4,
 "nbformat_minor": 4
}
