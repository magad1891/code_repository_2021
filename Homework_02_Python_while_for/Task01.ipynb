{
 "cells": [
  {
   "cell_type": "code",
   "execution_count": 5,
   "metadata": {},
   "outputs": [
    {
     "name": "stdout",
     "output_type": "stream",
     "text": [
      "Число букв в слове window четное (6 букв). Две средние буквы nd \n"
     ]
    }
   ],
   "source": [
    "#Домашнее задание к лекции \"Введение в типы данных и циклы. Часть 1\"\n",
    "\n",
    "#Task #1\n",
    "user_word = 'window'\n",
    "#user_word = 'lecture'\n",
    "\n",
    "char_number = int(len(user_word)/2)\n",
    "if ((len(user_word))%2) == 0:                   #even number of characters\n",
    "    print(f\"Число букв в слове {user_word} четное ({len(user_word)} букв). Две средние буквы {user_word[char_number-1:char_number+1]} \")\n",
    "else:\n",
    "    print(f\"Число букв в слове {user_word} нечетное ({len(user_word)} букв). Средняя буква {user_word[char_number]} \")"
   ]
  },
  {
   "cell_type": "code",
   "execution_count": null,
   "metadata": {},
   "outputs": [],
   "source": []
  }
 ],
 "metadata": {
  "kernelspec": {
   "display_name": "Python 3",
   "language": "python",
   "name": "python3"
  },
  "language_info": {
   "codemirror_mode": {
    "name": "ipython",
    "version": 3
   },
   "file_extension": ".py",
   "mimetype": "text/x-python",
   "name": "python",
   "nbconvert_exporter": "python",
   "pygments_lexer": "ipython3",
   "version": "3.8.5"
  }
 },
 "nbformat": 4,
 "nbformat_minor": 4
}
