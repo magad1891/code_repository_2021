{
 "cells": [
  {
   "cell_type": "code",
   "execution_count": 3,
   "metadata": {},
   "outputs": [
    {
     "name": "stdout",
     "output_type": "stream",
     "text": [
      "Поисковых запросов, содержащих 2 слов(а):  42.86 %\n",
      "Поисковых запросов, содержащих 3 слов(а):  57.14 %\n"
     ]
    }
   ],
   "source": [
    "#Домашнее задание к лекции «Управляющие конструкции и коллекции» часть 2\n",
    "#Task #2\n",
    "\n",
    "queries = [\n",
    "'смотреть сериалы онлайн',\n",
    "'новости спорта',\n",
    "'афиша кино',\n",
    "'курс доллара',\n",
    "'сериалы этим летом',\n",
    "'курс по питону',\n",
    "'сериалы про спорт'\n",
    "]\n",
    "\n",
    "count_2w = 0\n",
    "count_3w = 0\n",
    "\n",
    "for i in range(0, len(queries)):\n",
    "    if (len(queries[i].split()) == 2):\n",
    "        count_2w = count_2w + 1\n",
    "    else:\n",
    "        count_3w = count_3w + 1\n",
    "\n",
    "#print(count_2w, ' ', count_3w)\n",
    "print(\"Поисковых запросов, содержащих 2 слов(а): \", \"{:.2f}\".format((count_2w*100/(count_2w+count_3w))),\"%\")\n",
    "print(\"Поисковых запросов, содержащих 3 слов(а): \", \"{:.2f}\".format((count_3w*100/(count_2w+count_3w))),\"%\")\n"
   ]
  },
  {
   "cell_type": "code",
   "execution_count": null,
   "metadata": {},
   "outputs": [],
   "source": []
  }
 ],
 "metadata": {
  "kernelspec": {
   "display_name": "Python 3",
   "language": "python",
   "name": "python3"
  },
  "language_info": {
   "codemirror_mode": {
    "name": "ipython",
    "version": 3
   },
   "file_extension": ".py",
   "mimetype": "text/x-python",
   "name": "python",
   "nbconvert_exporter": "python",
   "pygments_lexer": "ipython3",
   "version": "3.8.5"
  }
 },
 "nbformat": 4,
 "nbformat_minor": 4
}
