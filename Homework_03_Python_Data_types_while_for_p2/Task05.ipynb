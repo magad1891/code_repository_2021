{
 "cells": [
  {
   "cell_type": "code",
   "execution_count": 3,
   "metadata": {},
   "outputs": [
    {
     "name": "stdout",
     "output_type": "stream",
     "text": [
      "{'2018-01-01': {'yandex': {'cpc': 100}}}\n"
     ]
    }
   ],
   "source": [
    "#Домашнее задание к лекции «Управляющие конструкции и коллекции» часть 2\n",
    "#Task #5\n",
    "#Нашла решение на просторах Интернета\n",
    "\n",
    "my_list = ['2018-01-01', 'yandex', 'cpc', 100]\n",
    "#my_list = ['a', 'b', 'c', 'd', 'e', 'f']\n",
    "\n",
    "def list2dict(src_list):\n",
    "    if len(src_list) > 1:\n",
    "        #print(\"!!!! \", len(src_list))\n",
    "        return {src_list[0]: list2dict(src_list[1:])}\n",
    "    else:\n",
    "        return src_list[0]\n",
    "\n",
    "print(list2dict(my_list))"
   ]
  },
  {
   "cell_type": "code",
   "execution_count": null,
   "metadata": {},
   "outputs": [],
   "source": []
  }
 ],
 "metadata": {
  "kernelspec": {
   "display_name": "Python 3",
   "language": "python",
   "name": "python3"
  },
  "language_info": {
   "codemirror_mode": {
    "name": "ipython",
    "version": 3
   },
   "file_extension": ".py",
   "mimetype": "text/x-python",
   "name": "python",
   "nbconvert_exporter": "python",
   "pygments_lexer": "ipython3",
   "version": "3.8.5"
  }
 },
 "nbformat": 4,
 "nbformat_minor": 4
}
