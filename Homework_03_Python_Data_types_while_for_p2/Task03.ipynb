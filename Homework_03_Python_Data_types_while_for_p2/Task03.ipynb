{
 "cells": [
  {
   "cell_type": "code",
   "execution_count": 3,
   "metadata": {},
   "outputs": [
    {
     "name": "stdout",
     "output_type": "stream",
     "text": [
      "adwords :  {'revenue': 35, 'cost': 34, 'ROI': 2.94}\n",
      "facebook :  {'revenue': 103, 'cost': 110, 'ROI': -6.36}\n",
      "twitter :  {'revenue': 11, 'cost': 24, 'ROI': -54.17}\n",
      "vk :  {'revenue': 103, 'cost': 98, 'ROI': 5.1}\n",
      "yandex :  {'revenue': 179, 'cost': 153, 'ROI': 16.99}\n"
     ]
    }
   ],
   "source": [
    "#Домашнее задание к лекции «Управляющие конструкции и коллекции» часть 2\n",
    "#Task #3\n",
    "\n",
    "results = {\n",
    "'vk': {'revenue': 103, 'cost': 98},\n",
    "'yandex': {'revenue': 179, 'cost': 153},\n",
    "'facebook': {'revenue': 103, 'cost': 110},\n",
    "'adwords': {'revenue': 35, 'cost': 34},\n",
    "'twitter': {'revenue': 11, 'cost': 24}\n",
    "}\n",
    "\n",
    "for p_id in results.keys():\n",
    "    results[p_id]['ROI'] = round(((results[p_id]['revenue']/results[p_id]['cost'])-1)*100, 2)\n",
    "\n",
    "#print(results)\n",
    "sorted_results = dict(sorted(results.items()))\n",
    "for k, v in sorted_results.items():\n",
    "    print(k,': ', v)\n"
   ]
  },
  {
   "cell_type": "code",
   "execution_count": null,
   "metadata": {},
   "outputs": [],
   "source": []
  }
 ],
 "metadata": {
  "kernelspec": {
   "display_name": "Python 3",
   "language": "python",
   "name": "python3"
  },
  "language_info": {
   "codemirror_mode": {
    "name": "ipython",
    "version": 3
   },
   "file_extension": ".py",
   "mimetype": "text/x-python",
   "name": "python",
   "nbconvert_exporter": "python",
   "pygments_lexer": "ipython3",
   "version": "3.8.5"
  }
 },
 "nbformat": 4,
 "nbformat_minor": 4
}
