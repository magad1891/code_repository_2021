{
 "cells": [
  {
   "cell_type": "code",
   "execution_count": 24,
   "metadata": {},
   "outputs": [
    {
     "name": "stdout",
     "output_type": "stream",
     "text": [
      "Пожалуйста, введите тип фигуры (Круг, Треугольник, Прямоугольник): Прямоугольник\n",
      "Пожалуйста, введите длину Прямоугольника: 5\n",
      "Пожалуйста, введите ширину Прямоугольника: 5\n",
      "Площадь Прямоугольникa:  25.0\n"
     ]
    }
   ],
   "source": [
    "#Task #6\n",
    "geom_shape = (input(\"Пожалуйста, введите тип фигуры (Круг, Треугольник, Прямоугольник): \"))\n",
    "\n",
    "if geom_shape == \"Круг\":\n",
    "    radius = float(input(\"Пожалуйста, введите радиус Круга: \"))\n",
    "    square = 3.14 * radius * radius\n",
    "    print(f\"Площадь {geom_shape}a: \", square)\n",
    "\n",
    "elif geom_shape == \"Треугольник\":\n",
    "    side_1 = float(input(\"Пожалуйста, введите длину одной стороны Треугольника: \"))\n",
    "    side_2 = float(input(\"Пожалуйста, введите длину второй стороны Треугольника: \"))\n",
    "    side_3 = float(input(\"Пожалуйста, введите длину третьей стороны Треугольника: \"))\n",
    "    #Heron's equation\n",
    "    semi_perimeter = 0.5*(side_1 + side_2 + side_3)\n",
    "    square = (semi_perimeter*(semi_perimeter - side_1)*(semi_perimeter - side_2)*(semi_perimeter - side_3))**0.5\n",
    "    print(f\"Площадь {geom_shape}a: \", square)\n",
    "\n",
    "elif geom_shape == \"Прямоугольник\":\n",
    "    length = float(input(\"Пожалуйста, введите длину Прямоугольника: \"))\n",
    "    width = float(input(\"Пожалуйста, введите ширину Прямоугольника: \"))\n",
    "    square = length * width\n",
    "    print(f\"Площадь {geom_shape}a: \", square)\n"
   ]
  },
  {
   "cell_type": "code",
   "execution_count": null,
   "metadata": {},
   "outputs": [],
   "source": []
  }
 ],
 "metadata": {
  "kernelspec": {
   "display_name": "Python 3",
   "language": "python",
   "name": "python3"
  },
  "language_info": {
   "codemirror_mode": {
    "name": "ipython",
    "version": 3
   },
   "file_extension": ".py",
   "mimetype": "text/x-python",
   "name": "python",
   "nbconvert_exporter": "python",
   "pygments_lexer": "ipython3",
   "version": "3.8.5"
  }
 },
 "nbformat": 4,
 "nbformat_minor": 4
}
