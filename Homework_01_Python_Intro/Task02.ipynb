{
 "cells": [
  {
   "cell_type": "code",
   "execution_count": 5,
   "metadata": {},
   "outputs": [
    {
     "name": "stdout",
     "output_type": "stream",
     "text": [
      "Please enter the year: 2019\n",
      "Год 2019 - обычный год\n"
     ]
    }
   ],
   "source": [
    "#Task 2\n",
    "#https://en.wikipedia.org/wiki/Leap_year\n",
    "#if (year is not divisible by 4) then (it is a common year)\n",
    "#else if (year is not divisible by 100) then (it is a leap year)\n",
    "#else if (year is not divisible by 400) then (it is a common year)\n",
    "#else (it is a leap year)\n",
    "\n",
    "#year 2020 (leap year) and 2019(common year)\n",
    "\n",
    "year = int(input(\"Please enter the year: \"))\n",
    "\n",
    "if (year % 4) == 0:\n",
    "    print(\"Remainder \", year % 4)\n",
    "    if (year % 100) == 0:\n",
    "        print(\"Remainder \", year % 100)\n",
    "        if (year % 400) == 0:\n",
    "            print(\"Remainder \", year % 400)\n",
    "            print(f\"Год {year} - высокосный год\")\n",
    "        else:\n",
    "            print(f\"Год {year} - обычный год\")\n",
    "    else:\n",
    "        print(f\"Год {year} - высокосный год\")\n",
    "else:\n",
    "    print(f\"Год {year} - обычный год\")"
   ]
  },
  {
   "cell_type": "code",
   "execution_count": null,
   "metadata": {},
   "outputs": [],
   "source": []
  },
  {
   "cell_type": "code",
   "execution_count": null,
   "metadata": {},
   "outputs": [],
   "source": []
  }
 ],
 "metadata": {
  "kernelspec": {
   "display_name": "Python 3",
   "language": "python",
   "name": "python3"
  },
  "language_info": {
   "codemirror_mode": {
    "name": "ipython",
    "version": 3
   },
   "file_extension": ".py",
   "mimetype": "text/x-python",
   "name": "python",
   "nbconvert_exporter": "python",
   "pygments_lexer": "ipython3",
   "version": "3.8.5"
  }
 },
 "nbformat": 4,
 "nbformat_minor": 4
}
