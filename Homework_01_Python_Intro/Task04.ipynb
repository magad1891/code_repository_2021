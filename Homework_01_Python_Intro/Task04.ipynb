{
 "cells": [
  {
   "cell_type": "code",
   "execution_count": 14,
   "metadata": {},
   "outputs": [
    {
     "name": "stdout",
     "output_type": "stream",
     "text": [
      "Пожалуйста, введите ширину коробки в см: 45\n",
      "Пожалуйста, введите длину коробки в см: 205\n",
      "Пожалуйста, введите высоту коробки в см: 12\n",
      "Упаковка для лыж\n"
     ]
    }
   ],
   "source": [
    "#Task 4\n",
    "width = float(input(\"Пожалуйста, введите ширину коробки в см: \"))\n",
    "length = float(input(\"Пожалуйста, введите длину коробки в см: \"))\n",
    "height = float(input(\"Пожалуйста, введите высоту коробки в см: \"))\n",
    "\n",
    "if (length > 200):\n",
    "    print(\"Упаковка для лыж\")\n",
    "elif (width < 15) and (length < 15) and (height < 15):\n",
    "    print(\"Коробка №1\")\n",
    "elif (width > 15 and width < 50) or (length > 15  and length <50) or (height > 15 and height <50):\n",
    "    print(\"Коробка №2\")\n",
    "else:\n",
    "    print(\"Стандартная коробка №3\")"
   ]
  },
  {
   "cell_type": "code",
   "execution_count": null,
   "metadata": {},
   "outputs": [],
   "source": []
  }
 ],
 "metadata": {
  "kernelspec": {
   "display_name": "Python 3",
   "language": "python",
   "name": "python3"
  },
  "language_info": {
   "codemirror_mode": {
    "name": "ipython",
    "version": 3
   },
   "file_extension": ".py",
   "mimetype": "text/x-python",
   "name": "python",
   "nbconvert_exporter": "python",
   "pygments_lexer": "ipython3",
   "version": "3.8.5"
  }
 },
 "nbformat": 4,
 "nbformat_minor": 4
}
