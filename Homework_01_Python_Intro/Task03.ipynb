{
 "cells": [
  {
   "cell_type": "code",
   "execution_count": 8,
   "metadata": {},
   "outputs": [
    {
     "name": "stdout",
     "output_type": "stream",
     "text": [
      "Пожалуйста, введите месяц рождения: Октябрь\n",
      "Пожалуйста, введите день рождения: 29\n",
      "Знак зодиака: Скорпион\n"
     ]
    }
   ],
   "source": [
    "#Task 3\n",
    "month = input(\"Пожалуйста, введите месяц рождения: \")\n",
    "day = int(input(\"Пожалуйста, введите день рождения: \"))\n",
    "\n",
    "\n",
    "if (month==\"Март\"):\n",
    "    if (day < 21):\n",
    "        print(\"Знак зодиака: Рыбы\")\n",
    "    else:\n",
    "        print(\"Знак зодиака: Овен\")\n",
    "elif (month==\"Апрель\"):\n",
    "    if (day < 21):\n",
    "        print(\"Знак зодиака: Овен\")\n",
    "    else:\n",
    "        print(\"Знак зодиака: Телец\")\n",
    "elif (month==\"Май\"):\n",
    "    if (day < 22):\n",
    "        print(\"Знак зодиака: Телец\")\n",
    "    else:\n",
    "        print(\"Знак зодиака: Близнецы\")\n",
    "elif (month==\"Июнь\"):\n",
    "    if (day < 22):\n",
    "        print(\"Знак зодиака: Близнецы\")\n",
    "    else:\n",
    "        print(\"Знак зодиака: Рак\")\n",
    "elif (month==\"Июль\"):\n",
    "    if (day < 23):\n",
    "        print(\"Знак зодиака: Рак\")\n",
    "    else:\n",
    "        print(\"Знак зодиака: Лев\")\n",
    "elif (month==\"Август\"):\n",
    "    if (day < 22):\n",
    "        print(\"Знак зодиака: Лев\")\n",
    "    else:\n",
    "        print(\"Знак зодиака: Дева\")\n",
    "elif (month==\"Сентябрь\"):\n",
    "    if (day < 24):\n",
    "        print(\"Знак зодиака: Дева\")\n",
    "    else:\n",
    "        print(\"Знак зодиака: Весы\")\n",
    "elif (month==\"Октябрь\"):\n",
    "    if (day < 24):\n",
    "        print(\"Знак зодиака: Весы\")\n",
    "    else:\n",
    "        print(\"Знак зодиака: Скорпион\")\n",
    "elif (month==\"Ноябрь\"):\n",
    "    if (day < 23):\n",
    "        print(\"Знак зодиака: Скорпион\")\n",
    "    else:\n",
    "        print(\"Знак зодиака: Стрелец\")\n",
    "elif (month==\"Декабрь\"):\n",
    "    if (day < 23):\n",
    "        print(\"Знак зодиака: Стрелец\")\n",
    "    else:\n",
    "        print(\"Знак зодиака: Козерог\")\n",
    "elif (month==\"Январь\"):\n",
    "    if (day < 21):\n",
    "        print(\"Знак зодиака: Козерог\")\n",
    "    else:\n",
    "        print(\"Знак зодиака: Водолей\")\n",
    "elif (month==\"Февраль\"):\n",
    "    if (day < 20):\n",
    "        print(\"Знак зодиака: Водолей\")\n",
    "    else:\n",
    "        print(\"Знак зодиака: Рыбы\")"
   ]
  },
  {
   "cell_type": "code",
   "execution_count": null,
   "metadata": {},
   "outputs": [],
   "source": []
  },
  {
   "cell_type": "code",
   "execution_count": null,
   "metadata": {},
   "outputs": [],
   "source": []
  }
 ],
 "metadata": {
  "kernelspec": {
   "display_name": "Python 3",
   "language": "python",
   "name": "python3"
  },
  "language_info": {
   "codemirror_mode": {
    "name": "ipython",
    "version": 3
   },
   "file_extension": ".py",
   "mimetype": "text/x-python",
   "name": "python",
   "nbconvert_exporter": "python",
   "pygments_lexer": "ipython3",
   "version": "3.8.5"
  }
 },
 "nbformat": 4,
 "nbformat_minor": 4
}
