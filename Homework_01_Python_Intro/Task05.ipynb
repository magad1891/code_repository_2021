{
 "cells": [
  {
   "cell_type": "code",
   "execution_count": 20,
   "metadata": {},
   "outputs": [
    {
     "name": "stdout",
     "output_type": "stream",
     "text": [
      "Билет 123456 - неcчастливый билет\n"
     ]
    }
   ],
   "source": [
    "#Task#5\n",
    "ticket_number = 123456\n",
    "#ticket_number = 123321\n",
    "\n",
    "list_1 = []\n",
    "list_1 = list(str(ticket_number))\n",
    "#print(list_1)\n",
    "\n",
    "sum_1=0\n",
    "sum_2=0\n",
    "\n",
    "for i in range(6):\n",
    "    if i<=2:\n",
    "        sum_1 = sum_1 + int(list_1[i])\n",
    "    else:\n",
    "        sum_2 = sum_2 + int(list_1[i])\n",
    "        \n",
    "#print(sum_1,\"  \", sum_2)\n",
    "\n",
    "if sum_1 == sum_2:\n",
    "    print(f\"Билет {ticket_number} - cчастливый билет\")\n",
    "else:\n",
    "    print(f\"Билет {ticket_number} - неcчастливый билет\")"
   ]
  },
  {
   "cell_type": "code",
   "execution_count": null,
   "metadata": {},
   "outputs": [],
   "source": []
  }
 ],
 "metadata": {
  "kernelspec": {
   "display_name": "Python 3",
   "language": "python",
   "name": "python3"
  },
  "language_info": {
   "codemirror_mode": {
    "name": "ipython",
    "version": 3
   },
   "file_extension": ".py",
   "mimetype": "text/x-python",
   "name": "python",
   "nbconvert_exporter": "python",
   "pygments_lexer": "ipython3",
   "version": "3.8.5"
  }
 },
 "nbformat": 4,
 "nbformat_minor": 4
}
