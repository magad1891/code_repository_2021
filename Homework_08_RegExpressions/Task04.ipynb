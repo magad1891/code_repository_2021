{
 "cells": [
  {
   "cell_type": "code",
   "execution_count": 1,
   "metadata": {},
   "outputs": [
    {
     "name": "stdout",
     "output_type": "stream",
     "text": [
      "The entered list of emails includes 3 instances of the gmail.com domain\n",
      "The entered list of emails includes 2 instances of the test.inc domain\n",
      "The entered list of emails includes 2 instances of the mail.ru domain\n",
      "The entered list of emails includes 3 instances of the ya.ru domain\n"
     ]
    }
   ],
   "source": [
    "import re\n",
    "\n",
    "#Task 04\n",
    "\n",
    "def identifying_domain(text_2):\n",
    "    pattern100 = re.compile(r\"(?<=@)(\\w+\\.\\w{1,3})\")\n",
    "    for element in text_2:\n",
    "        list1 = re.findall(pattern100, str(element))\n",
    "\n",
    "    set1 = set(list1)\n",
    "\n",
    "    for element in set1:\n",
    "        sum = 1\n",
    "        for element1 in list1:\n",
    "            if element == element1:\n",
    "                sum += 1\n",
    "        print(f\"The entered list of emails includes {sum} instances of the {element} domain\")\n",
    "\n",
    "\n",
    "#text_1 = ['test@gmail.com, xyz@test.inc, test@ya.ru, xyz@mail.ru, xyz@ya.ru', xyz@gmail.com]\n",
    "text_1 = ['test@gmail.com, xyz@test.inc, test@ya.ru, xyz@mail.ru, xyz@ya.ru, xyz@gmail.com']\n",
    "\n",
    "identifying_domain(text_1)"
   ]
  },
  {
   "cell_type": "code",
   "execution_count": null,
   "metadata": {},
   "outputs": [],
   "source": []
  }
 ],
 "metadata": {
  "kernelspec": {
   "display_name": "Python 3",
   "language": "python",
   "name": "python3"
  },
  "language_info": {
   "codemirror_mode": {
    "name": "ipython",
    "version": 3
   },
   "file_extension": ".py",
   "mimetype": "text/x-python",
   "name": "python",
   "nbconvert_exporter": "python",
   "pygments_lexer": "ipython3",
   "version": "3.8.5"
  }
 },
 "nbformat": 4,
 "nbformat_minor": 4
}
