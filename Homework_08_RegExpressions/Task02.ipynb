{
 "cells": [
  {
   "cell_type": "code",
   "execution_count": 1,
   "metadata": {},
   "outputs": [
    {
     "name": "stdout",
     "output_type": "stream",
     "text": [
      "Напишите функцию, которая будет удалять все последовательные повторы слов из заданной строки при помощи регулярных выражений\n"
     ]
    }
   ],
   "source": [
    "import re\n",
    "\n",
    "#Task 02 - how to remove duplicate words from a sentence\n",
    "# (?:...) - match everything enclosed\n",
    "# \\w  -  Matches any letter, digit or underscore. Equivalent to [a-zA-Z0-9_]\n",
    "# \\W -   Matches anything other than a letter, digit or underscore. Equivalent to [^a-zA-Z0-9_]; @, %, $\n",
    "\n",
    "\n",
    "def removing_duplicate_words(some_string1):\n",
    "    print(re.sub(r\"\\b(\\w+)(\\W\\1\\b)+\", r\"\\1\", some_string1, flags=re.IGNORECASE))\n",
    "\n",
    "\n",
    "#----------------- the main body of the program\n",
    "some_string = \"Напишите функцию функцию, которая будет будет будет будет удалять все все все все последовательные повторы слов из из из из заданной строки строки при помощи помощи регулярных выражений\"\n",
    "\n",
    "removing_duplicate_words(some_string)"
   ]
  },
  {
   "cell_type": "code",
   "execution_count": null,
   "metadata": {},
   "outputs": [],
   "source": []
  }
 ],
 "metadata": {
  "kernelspec": {
   "display_name": "Python 3",
   "language": "python",
   "name": "python3"
  },
  "language_info": {
   "codemirror_mode": {
    "name": "ipython",
    "version": 3
   },
   "file_extension": ".py",
   "mimetype": "text/x-python",
   "name": "python",
   "nbconvert_exporter": "python",
   "pygments_lexer": "ipython3",
   "version": "3.8.5"
  }
 },
 "nbformat": 4,
 "nbformat_minor": 4
}
