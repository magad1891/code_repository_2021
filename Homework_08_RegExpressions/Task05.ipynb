{
 "cells": [
  {
   "cell_type": "code",
   "execution_count": 4,
   "metadata": {},
   "outputs": [
    {
     "name": "stdout",
     "output_type": "stream",
     "text": [
      "Слов на гласные буквы:  9\n",
      "Слов на согласные буквы:  21\n"
     ]
    }
   ],
   "source": [
    "import re\n",
    "\n",
    "#Task 5\n",
    "\n",
    "def words_with_vowels_and_consonants(some_text1):\n",
    "    pattern77 = re.compile(r\"\\b([aeiou][a-z]*|[ауоеиэыяюеё][а-я]*)\\b\")\n",
    "    pattern88 = re.compile(r\"\\b([bcdfghj-np-tvw-z][a-z]*|[бвгджзйклмнпрстфцчшщ][а-я]*)\\b\")\n",
    "    list77 = re.findall(pattern77, some_text.lower())\n",
    "    list88 = re.findall(pattern88, some_text.lower())\n",
    "    #print(list77)\n",
    "    print(\"Слов на гласные буквы: \", len(list77))\n",
    "    #print(list88)\n",
    "    print(\"Слов на согласные буквы: \", len(list88))\n",
    "\n",
    "\n",
    "some_text = \"Эталонной реализацией Python является интерпретатор CPython, поддерживающий большинство активно используемых платформ. Он распространяется под свободной лицензией Python Software Foundation License, позволяющей использовать его без ограничений в любых приложениях, включая проприетарные.\"\n",
    "\n",
    "#some_text = \"Yan Wushi brought him All all the way down the mountain. They passed, through Xuandu Town and r arrived at the relay station in the countryside, a place they had stayed at before when they first entered the town to eat apple.\"\n",
    "\n",
    "#list_some_text = some_text.split()\n",
    "#print(list_some_text)\n",
    "\n",
    "words_with_vowels_and_consonants(some_text)\n"
   ]
  },
  {
   "cell_type": "code",
   "execution_count": null,
   "metadata": {},
   "outputs": [],
   "source": []
  }
 ],
 "metadata": {
  "kernelspec": {
   "display_name": "Python 3",
   "language": "python",
   "name": "python3"
  },
  "language_info": {
   "codemirror_mode": {
    "name": "ipython",
    "version": 3
   },
   "file_extension": ".py",
   "mimetype": "text/x-python",
   "name": "python",
   "nbconvert_exporter": "python",
   "pygments_lexer": "ipython3",
   "version": "3.8.5"
  }
 },
 "nbformat": 4,
 "nbformat_minor": 4
}
