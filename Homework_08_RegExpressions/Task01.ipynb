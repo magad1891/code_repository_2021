{
 "cells": [
  {
   "cell_type": "code",
   "execution_count": 20,
   "metadata": {},
   "outputs": [
    {
     "name": "stdout",
     "output_type": "stream",
     "text": [
      "Формат номера машины АБ22ВВ193 не верен\n",
      "Формат номера машины в России 1 буква, 3 цифры, 2 буквы, 2-3 цифры.\n",
      "На знаках разрешены 12 букв кириллицы, имеющие графические аналоги в латинском алфавите — А,В,Е,К,М,Н,О,Р,С,Т,У и Х\n",
      "При наборе номера, пожалуйста, используйте только заглавные буквы (можно воспользоваться кириллицей или латиницей)\n"
     ]
    }
   ],
   "source": [
    "import re\n",
    "\n",
    "#Task 01\n",
    "#pattern - транспортный номер (1 буква, 3 цифры, 2 буквы, 2-3 цифры)\n",
    "#ГОСТом для использования на знаках разрешены 12 букв кириллицы, имеющие графические аналоги в латинском алфавите — А, В, Е, К, М, Н, О, Р, С, Т, У и Х.\n",
    "\n",
    "def car_id_function(car_id1):\n",
    "    #pattern_main4 = re.compile(r\"\\D\\d{3}\\D{2}\\d{2,3}\")\n",
    "    #используется кириллица\n",
    "    pattern_main4 = re.compile(r\"([АВЕКМНОРСТУХ]|[АВЕКМНОРСТУХ]){1}\\d{3}([АВЕКМНОРСТУХ]|[АВЕКМНОРСТУХ]){2}\\d{2,3}\")\n",
    "    pattern_car_number = re.compile(r\"([АВЕКМНОРСТУХ]|[АВЕКМНОРСТУХ]){1}\\d{3}([АВЕКМНОРСТУХ]|[АВЕКМНОРСТУХ]){2}(?=\\d{2,3})\")\n",
    "    pattern_region = re.compile(r\"(?<=([АВЕКМНОРСТУХ]|[АВЕКМНОРСТУХ]){1}\\d{3}([АВЕКМНОРСТУХ]|[АВЕКМНОРСТУХ]){2})\\d{2,3}\")\n",
    "    match4 = pattern_main4.search(car_id1)                                  \n",
    "    match_car_number = pattern_car_number.search(car_id1)\n",
    "    match_region = pattern_region.search(car_id1)\n",
    "\n",
    "    if match4:\n",
    "        print(f\"Формат номера машины {match_car_number.group()} верен. Регион {match_region.group()}\")\n",
    "    else:\n",
    "        print(f\"Формат номера машины {car_id1} не верен\")\n",
    "        print(\"Формат номера машины в России 1 буква, 3 цифры, 2 буквы, 2-3 цифры\")\n",
    "        print(\"На знаках разрешены 12 букв кириллицы, имеющие графические аналоги в латинском алфавите — А,В,Е,К,М,Н,О,Р,С,Т,У и Х\")\n",
    "        print(\"При наборе номера, пожалуйста, используйте только заглавные буквы (можно воспользоваться кириллицей или латиницей)\")\n",
    "\n",
    "#----------------- the main body of the program\n",
    "#car_id = \"А222ВС96\"\n",
    "car_id = \"АБ22ВВ193\"\n",
    "\n",
    "\n",
    "car_id_function(car_id)"
   ]
  },
  {
   "cell_type": "code",
   "execution_count": null,
   "metadata": {},
   "outputs": [],
   "source": []
  },
  {
   "cell_type": "code",
   "execution_count": null,
   "metadata": {},
   "outputs": [],
   "source": []
  }
 ],
 "metadata": {
  "kernelspec": {
   "display_name": "Python 3",
   "language": "python",
   "name": "python3"
  },
  "language_info": {
   "codemirror_mode": {
    "name": "ipython",
    "version": 3
   },
   "file_extension": ".py",
   "mimetype": "text/x-python",
   "name": "python",
   "nbconvert_exporter": "python",
   "pygments_lexer": "ipython3",
   "version": "3.8.5"
  }
 },
 "nbformat": 4,
 "nbformat_minor": 4
}
