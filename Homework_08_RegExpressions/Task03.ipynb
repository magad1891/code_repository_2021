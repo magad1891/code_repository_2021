{
 "cells": [
  {
   "cell_type": "code",
   "execution_count": 2,
   "metadata": {},
   "outputs": [
    {
     "name": "stdout",
     "output_type": "stream",
     "text": [
      "ИТ"
     ]
    }
   ],
   "source": [
    "import re\n",
    "\n",
    "#Task 03\n",
    "#  to match Unicode letters and numbers \\b(\\p{L}|\\p{N}+)\n",
    "\n",
    "def acronim_function(some_words1):\n",
    "    pattern6 = re.compile(r\"\\b(\\w)\")\n",
    "    list5 = (re.findall(pattern6, some_words1))\n",
    "    for element in list5:\n",
    "        print(element.upper(), end=\"\")\n",
    "\n",
    "#some_words = \"Near Field Communication\"\n",
    "some_words = \"Информационные технологии\"\n",
    "\n",
    "acronim_function(some_words)"
   ]
  },
  {
   "cell_type": "code",
   "execution_count": null,
   "metadata": {},
   "outputs": [],
   "source": []
  }
 ],
 "metadata": {
  "kernelspec": {
   "display_name": "Python 3",
   "language": "python",
   "name": "python3"
  },
  "language_info": {
   "codemirror_mode": {
    "name": "ipython",
    "version": 3
   },
   "file_extension": ".py",
   "mimetype": "text/x-python",
   "name": "python",
   "nbconvert_exporter": "python",
   "pygments_lexer": "ipython3",
   "version": "3.8.5"
  }
 },
 "nbformat": 4,
 "nbformat_minor": 4
}
