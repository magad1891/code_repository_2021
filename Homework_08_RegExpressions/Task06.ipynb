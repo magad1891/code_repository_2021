{
 "cells": [
  {
   "cell_type": "code",
   "execution_count": 4,
   "metadata": {},
   "outputs": [
    {
     "name": "stdout",
     "output_type": "stream",
     "text": [
      "Формат номера мобильного телефона +7 955 555 55 55 верен\n",
      "Новый формат номера мобильного телефона  +7-955-555-55-55\n"
     ]
    }
   ],
   "source": [
    "import re\n",
    "\n",
    "#Task 06 ------------------------------------\n",
    "#Российский номер сотового телефона в международном формате состоит из 11 цифр, где +7 — это международный идентификатор страны, (9хх) — префикс оператора,\n",
    "# также показывающий регион регистрации номера, а дальше идет семизначный номер абонента\n",
    "# https://blog.softhints.com/regex-phone-number-find-validation-python/\n",
    "\n",
    "\n",
    "\n",
    "def mobile_number_function(mobile_number1):\n",
    "    pattern_mobile_number = re.compile(r\"\\+?(7|8)?(\\s|[(])?((9)\\d{2})(-|[)]|\\s)?(\\d{3})(-|\\s)?(\\d{2})(-|\\s)?(\\d{2})\")\n",
    "    match2 = pattern_mobile_number.match(mobile_number1)\n",
    "    #print(match2)\n",
    "\n",
    "    if match2:\n",
    "        print(f\"Формат номера мобильного телефона {mobile_number1} верен\")\n",
    "        mobile_new = re.sub(pattern_mobile_number, r\"+7-\\3-\\6-\\8-\\10\", mobile_number1)\n",
    "        print(\"Новый формат номера мобильного телефона \", mobile_new)\n",
    "    else:\n",
    "        print(f\"Формат номера мобильного телефона {mobile_number1} не верен\")\n",
    "\n",
    "\n",
    "\n",
    "#----------------- the main body of the program\n",
    "#new format +7-xxx-xxx-xx-xx\n",
    "\n",
    "#checked formats, are not matched\n",
    "#mobile_number = \"423-555-55-5555\"\n",
    "#mobile_number = \"123-456-789\"\n",
    "\n",
    "#mobile_number = \"7(955)555-55-55\"\n",
    "#mobile_number = \"(965)5555555\"\n",
    "mobile_number = \"+7 955 555 55 55\"\n",
    "#mobile_number = \"8(955)555-55-55\"\n",
    "#mobile_number = \"+7(955)555 5555\"\n",
    "#mobile_number = \"+7(955)5555555\"\n",
    "#mobile_number = \"+79555555555\"\n",
    "#mobile_number = \"+7955 5555555\"\n",
    "#mobile_number = \"7 955 555 5555\"\n",
    "#mobile_number = \"+7 955 555-5555\"\n",
    "\n",
    "mobile_number_function(mobile_number)"
   ]
  },
  {
   "cell_type": "code",
   "execution_count": null,
   "metadata": {},
   "outputs": [],
   "source": []
  }
 ],
 "metadata": {
  "kernelspec": {
   "display_name": "Python 3",
   "language": "python",
   "name": "python3"
  },
  "language_info": {
   "codemirror_mode": {
    "name": "ipython",
    "version": 3
   },
   "file_extension": ".py",
   "mimetype": "text/x-python",
   "name": "python",
   "nbconvert_exporter": "python",
   "pygments_lexer": "ipython3",
   "version": "3.8.5"
  }
 },
 "nbformat": 4,
 "nbformat_minor": 4
}
