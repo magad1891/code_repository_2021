{
 "cells": [
  {
   "cell_type": "code",
   "execution_count": 2,
   "metadata": {},
   "outputs": [
    {
     "name": "stdout",
     "output_type": "stream",
     "text": [
      "Moscow_Times_date:  2002-10-02\n",
      "Moscow_Times_date:  Wednesday, October 02, 2002  \n",
      "\n",
      "The_Guardian_date:  2013-10-11\n",
      "The_Guardian_date:  Friday, October 11, 2013  \n",
      "\n",
      "Daily_News_date:  1977-08-18\n",
      "Daily_News_date:  Thursday, August 18, 1977  \n",
      "\n"
     ]
    }
   ],
   "source": [
    "from datetime import datetime, date\n",
    "\n",
    "#Task #1\n",
    "#The Moscow Times - Wednesday, October 2, 2002\n",
    "Moscow_Times_date = date(year = 2002, month = 10, day = 2)\n",
    "print(\"Moscow_Times_date: \", Moscow_Times_date)\n",
    "print(\"Moscow_Times_date: \", Moscow_Times_date.strftime(\"%A, %B %d, %Y\"),\" \\n\")\n",
    "\n",
    "#The Guardian - Friday, 11.10.13 ; The Guardian style is: 21 July 2016 (day month year; no commas)\n",
    "\n",
    "Guardian_date = date(year = 2013, month = 10, day = 11)\n",
    "print(\"The_Guardian_date: \", Guardian_date)\n",
    "print(\"The_Guardian_date: \", Guardian_date.strftime(\"%A, %B %d, %Y\"),\" \\n\")\n",
    "\n",
    "#Daily News - Thursday, 18 August 1977\n",
    "Daily_News_date = date(year = 1977, month = 8, day = 18)\n",
    "print(\"Daily_News_date: \", Daily_News_date)\n",
    "print(\"Daily_News_date: \", Daily_News_date.strftime(\"%A, %B %d, %Y\"), \" \\n\")\n"
   ]
  },
  {
   "cell_type": "code",
   "execution_count": 3,
   "metadata": {},
   "outputs": [
    {
     "name": "stdout",
     "output_type": "stream",
     "text": [
      "Date 2018-04-02 is valid\n",
      "Date 2018-02-29 is not valid\n",
      "Date 2018-19-02 is not valid\n"
     ]
    }
   ],
   "source": [
    "#Task #2\n",
    "\n",
    "stream = ['2018-04-02', '2018-02-29', '2018-19-02']\n",
    "\n",
    "for element in stream:\n",
    "    year, month, day = element.split('-')\n",
    "\n",
    "    valid_date = True\n",
    "    try:\n",
    "        datetime(int(year), int(month), int(day))\n",
    "\n",
    "    except ValueError:\n",
    "        valid_date = False\n",
    "\n",
    "    if (valid_date):\n",
    "        print(f\"Date {element} is valid\")\n",
    "    else:\n",
    "        print(f\"Date {element} is not valid\")"
   ]
  },
  {
   "cell_type": "code",
   "execution_count": 8,
   "metadata": {},
   "outputs": [
    {
     "name": "stdout",
     "output_type": "stream",
     "text": [
      "DatetimeIndex(['2020-02-02', '2020-02-03', '2020-02-04', '2020-02-05',\n",
      "               '2020-02-06', '2020-02-07', '2020-02-08', '2020-02-09',\n",
      "               '2020-02-10'],\n",
      "              dtype='datetime64[ns]', freq='D')\n"
     ]
    }
   ],
   "source": [
    "#Task #3\n",
    "import pandas as pd\n",
    "\n",
    "#start_date = str(input(\"ВВедите, пожалуйста, начальную дату в формате YYYY-MM-DD \\n\"))\n",
    "#end_date = str(input(\"ВВедите, пожалуйста, конечную дату в формате YYYY-MM-DD \\n\"))\n",
    "#print(type(start_date))\n",
    "\n",
    "\n",
    "def checking_data_validity(date1):\n",
    "\n",
    "    year1, month1, day1 = date1.split('-')\n",
    "    valid_date = True\n",
    "    try:\n",
    "        date(int(year1), int(month1), int(day1))\n",
    "\n",
    "    except ValueError:\n",
    "        valid_date = False\n",
    "\n",
    "    return valid_date\n",
    "\n",
    "\n",
    "start_date = '2020-02-02'\n",
    "end_date = '2020-02-10'\n",
    "\n",
    "start_returned_val = checking_data_validity(start_date)\n",
    "end_returned_val = checking_data_validity(end_date)\n",
    "\n",
    "if (start_returned_val == False) or (end_returned_val == False):\n",
    "    if start_returned_val == False:\n",
    "        print(f\"Date {start_date} is not valid\")\n",
    "    else:\n",
    "        print(f\"Date {end_date} is not valid\")\n",
    "else:\n",
    "    #print(f\"Dates {start_date} and {end_date} are valid\")\n",
    "    if end_date <= start_date:\n",
    "        print(f\"Начальная дата {start_date} представлена днем, который наступит позже, чем конечная дата {end_date}\")\n",
    "        date_list = []\n",
    "        print(\" date_list \", date_list)\n",
    "    else:\n",
    "        date_list = pd.date_range(start_date, end_date)\n",
    "        print(date_list)"
   ]
  },
  {
   "cell_type": "code",
   "execution_count": null,
   "metadata": {},
   "outputs": [],
   "source": []
  }
 ],
 "metadata": {
  "kernelspec": {
   "display_name": "Python 3",
   "language": "python",
   "name": "python3"
  }
 },
 "nbformat": 4,
 "nbformat_minor": 4
}
