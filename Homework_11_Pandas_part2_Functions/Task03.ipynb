{
 "cells": [
  {
   "cell_type": "code",
   "execution_count": 1,
   "metadata": {},
   "outputs": [],
   "source": [
    "\n",
    "import pandas as pd\n",
    "\n",
    "\n",
    "# Task #3\n",
    "\n",
    "ratings_1 = pd.read_csv(\"ratings.csv\")\n",
    "\n",
    "movies_1 = pd.read_csv(\"movies.csv\")\n",
    "\n",
    "list_year = []\n",
    "year_n = 1950\n",
    "while year_n <2010:\n",
    "    year_n = year_n + 1\n",
    "    list_year.append(year_n)\n",
    "\n",
    "\n",
    "movies_1[\"year\"] = \"1900\"\n",
    "for val in list_year:\n",
    "    movies_1.loc[movies_1.title.str.contains(str(val)) == True, \"year\"] = val\n",
    "\n",
    "\n",
    "dictionary_1 = movies_1.set_index('movieId').to_dict()['year']\n",
    "\n",
    "dataframe_2 = movies_1.filter(['movieId','year'], axis = 1)\n",
    "\n",
    "for key, val in dictionary_1.items():\n",
    "    ratings_1.loc[ratings_1.movieId == key, \"year\"] = val\n",
    "\n",
    "#ratings_1.to_csv(\"ratings_1_changed.csv\")\n",
    "\n",
    "for key, val in dictionary_1.items():\n",
    "    val2 = ratings_1.loc[(ratings_1.movieId == key) & (ratings_1.year == val)].rating.mean()\n",
    "    dataframe_2.loc[(dataframe_2.movieId == key) & (dataframe_2.year == val), \"aver_rating\"] = val2\n",
    "    #print(key,' ', val, ' ', val2)\n",
    "\n",
    "dataframe_2.sort_values(\"aver_rating\", axis = 0, ascending = False, inplace = True)\n",
    "\n",
    "dataframe_2.to_csv(\"new_dataframe.csv\")\n",
    "\n"
   ]
  },
  {
   "cell_type": "code",
   "execution_count": null,
   "metadata": {},
   "outputs": [],
   "source": []
  }
 ],
 "metadata": {
  "kernelspec": {
   "display_name": "Python 3",
   "language": "python",
   "name": "python3"
  },
  "language_info": {
   "codemirror_mode": {
    "name": "ipython",
    "version": 3
   },
   "file_extension": ".py",
   "mimetype": "text/x-python",
   "name": "python",
   "nbconvert_exporter": "python",
   "pygments_lexer": "ipython3",
   "version": "3.8.5"
  }
 },
 "nbformat": 4,
 "nbformat_minor": 4
}
