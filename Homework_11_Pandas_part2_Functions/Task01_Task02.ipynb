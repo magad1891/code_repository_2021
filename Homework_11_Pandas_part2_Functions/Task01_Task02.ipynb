{
 "cells": [
  {
   "cell_type": "code",
   "execution_count": 1,
   "metadata": {},
   "outputs": [],
   "source": [
    "import pandas as pd\n",
    "\n",
    "\n",
    "# Task #1\n",
    "\n",
    "\n",
    "ratings_1 = pd.read_csv(\"ratings.csv\")\n",
    "\n",
    "def classifier(rating1):\n",
    "    if rating1 <= 2:\n",
    "        classifier1 = \"Low rating\"\n",
    "    elif ((rating1 > 2) & (rating1 <= 4)):\n",
    "        classifier1 = \"Medium rating\"\n",
    "    elif rating1 > 4:\n",
    "        classifier1 = \"High rating\"\n",
    "\n",
    "    return classifier1\n",
    "\n",
    "\n",
    "ratings_1[\"Class\"] = ratings_1['rating'].apply(classifier)\n",
    "\n",
    "#ratings_1[\"Class\"] = \"High rating\"\n",
    "#ratings_1.loc[ratings_1.rating <=2, \"Class\" ] = \"Low rating\"\n",
    "#ratings_1.loc[(ratings_1.rating > 2) & (ratings_1.rating <=4), \"Class\" ] = \"Medium rating\"\n",
    "\n",
    "ratings_1.to_csv(\"ratings_plus_class.csv\")\n"
   ]
  },
  {
   "cell_type": "code",
   "execution_count": 3,
   "metadata": {},
   "outputs": [],
   "source": [
    "import pandas as pd\n",
    "\n",
    "\n",
    "# Task #2\n",
    "\n",
    "keywords_1 = pd.read_csv('keywords.csv', encoding='utf-8')\n",
    "\n",
    "#Попыталась использовать pymystem3 так, как указано ниже \n",
    "#Но на моем компьютере все было очень очень медленно \n",
    "#(запустила на 3 часа (или около того), но операция так и не завершилась. Может, проблема в коде)\n",
    "\n",
    "#def lemmasss(parameter):\n",
    "#    mystem = Mystem()\n",
    "#    string_parameter = mystem.lemmatize(parameter)\n",
    "#    return ' '.join(string_parameter)\n",
    "\n",
    "#keywords_1['lemmas'] = keywords_1['keyword'].apply(lemmasss)\n",
    "#keywords_1.to_csv(\"keywords_plus_Region.txt\", encoding='utf-8')\n",
    "\n",
    "\n",
    "#Из-за того, что код с pymystem3 не сработал, реализовала упрощенное решение\n",
    "keywords_1[\"Region\"] = \"undefined\"\n",
    "\n",
    "geo_data = {\n",
    "    'Центр': ['москв', 'москов','тул', 'ярослав'],                       #'Центр': ['москва', 'тула', 'ярославль'],\n",
    "    'Северо-Запад': ['петербур', 'псков', 'мурманск'],                   #'Северо-Запад': ['петербург', 'псков', 'мурманск'], \n",
    "    'Дальний Восток': ['владивосток', 'сахалин', 'хабаровск']\n",
    "}\n",
    "\n",
    "for key, val in geo_data.items():\n",
    "    list_2 = val\n",
    "    for element in list_2:\n",
    "        keywords_1.loc[keywords_1.keyword.str.contains(element) == True, \"Region\"] = key\n",
    "\n",
    "        \n",
    "#center_dataframe = keywords_1.loc[keywords_1.Region.str.contains('Центр')]\n",
    "#print(center_dataframe.head(50))\n",
    "#center_dataframe.to_csv(\"keywords_plus_Region_center.txt\", encoding='utf-8')\n",
    "\n",
    "keywords_1.to_csv(\"keywords_plus_Region.txt\", encoding='utf-8')\n"
   ]
  },
  {
   "cell_type": "code",
   "execution_count": null,
   "metadata": {},
   "outputs": [],
   "source": []
  }
 ],
 "metadata": {
  "kernelspec": {
   "display_name": "Python 3",
   "language": "python",
   "name": "python3"
  },
  "language_info": {
   "codemirror_mode": {
    "name": "ipython",
    "version": 3
   },
   "file_extension": ".py",
   "mimetype": "text/x-python",
   "name": "python",
   "nbconvert_exporter": "python",
   "pygments_lexer": "ipython3",
   "version": "3.8.5"
  }
 },
 "nbformat": 4,
 "nbformat_minor": 4
}
