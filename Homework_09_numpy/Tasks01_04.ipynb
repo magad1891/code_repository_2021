{
 "cells": [
  {
   "cell_type": "code",
   "execution_count": 4,
   "metadata": {},
   "outputs": [
    {
     "name": "stdout",
     "output_type": "stream",
     "text": [
      "[9 8 7 6 5 4 3 2 1 0]\n",
      "[9 8 7 6 5 4 3 2 1 0]\n"
     ]
    }
   ],
   "source": [
    "import numpy as np\n",
    "\n",
    "# Task 01\n",
    "\n",
    "number_of_elem = 10\n",
    "start_elem = 0\n",
    "print(np.arange((number_of_elem - 1), (start_elem - 1), -1))\n",
    "\n",
    "# a bit different solution\n",
    "\n",
    "print(np.linspace(start = 9, stop = 0, num = 10, endpoint = True, dtype = int))"
   ]
  },
  {
   "cell_type": "code",
   "execution_count": 6,
   "metadata": {},
   "outputs": [
    {
     "name": "stdout",
     "output_type": "stream",
     "text": [
      "[[5 0 0 0 0 0]\n",
      " [0 4 0 0 0 0]\n",
      " [0 0 3 0 0 0]\n",
      " [0 0 0 2 0 0]\n",
      " [0 0 0 0 1 0]\n",
      " [0 0 0 0 0 0]]\n",
      "Сумма значений элементов на диагонали  15\n"
     ]
    }
   ],
   "source": [
    "# Task 02\n",
    "\n",
    "number_of_elem = 6\n",
    "start_elem = 0\n",
    "d_array = np.diag(np.arange((number_of_elem - 1), (start_elem - 1), -1), k = 0)\n",
    "print(d_array)                                      \n",
    "print(\"Сумма значений элементов на диагонали \", np.trace(d_array))\n"
   ]
  },
  {
   "cell_type": "code",
   "execution_count": 9,
   "metadata": {},
   "outputs": [
    {
     "name": "stdout",
     "output_type": "stream",
     "text": [
      "Система уравнения имеет следующее решение: \n",
      "x =  0.4666666666666668  y =  3.844444444444444  z =  -5.555555555555555\n",
      "True\n"
     ]
    }
   ],
   "source": [
    "# Task 03\n",
    "\n",
    "# resolving a set of linear equations\n",
    "\n",
    "AA = np.array([[4, 2, 1], [1, 3, 0], [0, 5, 4]])\n",
    "bb = np.array([4, 12, -3])\n",
    "xx = np.linalg.solve(AA, bb)\n",
    "print(\"Система уравнения имеет следующее решение: \")\n",
    "print(\"x = \",xx[0],\" y = \",xx[1],\" z = \",xx[2])\n",
    "\n",
    "# to check the solution\n",
    "print(np.allclose(np.dot(AA, xx), bb))\n",
    "\n"
   ]
  },
  {
   "cell_type": "code",
   "execution_count": 11,
   "metadata": {},
   "outputs": [
    {
     "name": "stdout",
     "output_type": "stream",
     "text": [
      "The highest cosine similarity 0.9486832980505138 is between the new visitor and user with ID  8\n"
     ]
    }
   ],
   "source": [
    "# Task 04\n",
    "\n",
    "users_stats = np.array(\n",
    "    [\n",
    "        [2, 1, 0, 0, 0, 0],\n",
    "        [1, 1, 2, 1, 0, 0],\n",
    "        [2, 0, 1, 0, 0, 0],\n",
    "        [1, 1, 2, 1, 0, 1],\n",
    "        [0, 0, 1, 2, 0, 0],\n",
    "        [0, 0, 0, 0, 0, 5],\n",
    "        [1, 0, 0, 0, 0, 0],\n",
    "        [0, 1, 1, 0, 0, 0],\n",
    "        [0, 0, 0, 1, 1, 3],\n",
    "        [1, 0, 0, 2, 1, 4]\n",
    "    ],\n",
    "    np.int32\n",
    ")\n",
    "next_user_stats = np.array([0,1,2,0,0,0])\n",
    "\n",
    "list_results = []\n",
    "for element in users_stats:\n",
    "    cos1 = np.dot(element, next_user_stats) / (np.sqrt(np.dot(element,element)) * np.sqrt(np.dot(next_user_stats,next_user_stats)))\n",
    "    list_results.append(cos1)\n",
    "\n",
    "print(f\"The highest cosine similarity {max(list_results)} is between the new visitor and user with ID \", (list_results.index(max(list_results)))+1)\n",
    "\n"
   ]
  },
  {
   "cell_type": "code",
   "execution_count": null,
   "metadata": {},
   "outputs": [],
   "source": []
  }
 ],
 "metadata": {
  "kernelspec": {
   "display_name": "Python 3",
   "language": "python",
   "name": "python3"
  },
  "language_info": {
   "codemirror_mode": {
    "name": "ipython",
    "version": 3
   },
   "file_extension": ".py",
   "mimetype": "text/x-python",
   "name": "python",
   "nbconvert_exporter": "python",
   "pygments_lexer": "ipython3",
   "version": "3.8.5"
  }
 },
 "nbformat": 4,
 "nbformat_minor": 4
}
