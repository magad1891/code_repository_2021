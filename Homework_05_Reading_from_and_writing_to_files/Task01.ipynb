{
 "cells": [
  {
   "cell_type": "code",
   "execution_count": 3,
   "metadata": {},
   "outputs": [
    {
     "name": "stdout",
     "output_type": "stream",
     "text": [
      "File is not accessible\n"
     ]
    }
   ],
   "source": [
    "#TASK #1       \n",
    "#using json to read the file\n",
    "#----the code 0x8f is not defined in CP1252, better to add coding to the \"open\" command\n",
    "\n",
    "import json\n",
    "\n",
    "purchases = {}\n",
    "try:\n",
    "    with open('purchase_log.txt', encoding='utf-8') as ff:\n",
    "        #to read the first line without doing much with it\n",
    "        line = ff.readline()\n",
    "        for i, line1 in enumerate(ff):\n",
    "            print(f\"Line {i} is being read from file purchase_log.txt\")\n",
    "            line1 = line1.strip()\n",
    "            dict_ = json.loads(line1)\n",
    "            key = dict_['user_id']\n",
    "            val = dict_['category']\n",
    "            #print(\"key \", key,\" val \", val)\n",
    "            purchases.update({key: val})\n",
    "\n",
    "        ff.close()\n",
    "\n",
    "    #for key, val in purchases.items():\n",
    "    #    print(key,' ',val)\n",
    "    \n",
    "except IOError:\n",
    "    print(\"File is not accessible\")"
   ]
  },
  {
   "cell_type": "code",
   "execution_count": null,
   "metadata": {},
   "outputs": [],
   "source": []
  }
 ],
 "metadata": {
  "kernelspec": {
   "display_name": "Python 3",
   "language": "python",
   "name": "python3"
  },
  "language_info": {
   "codemirror_mode": {
    "name": "ipython",
    "version": 3
   },
   "file_extension": ".py",
   "mimetype": "text/x-python",
   "name": "python",
   "nbconvert_exporter": "python",
   "pygments_lexer": "ipython3",
   "version": "3.8.5"
  }
 },
 "nbformat": 4,
 "nbformat_minor": 4
}
