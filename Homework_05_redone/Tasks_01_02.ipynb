{
 "cells": [
  {
   "cell_type": "code",
   "execution_count": 3,
   "metadata": {},
   "outputs": [
    {
     "name": "stdout",
     "output_type": "stream",
     "text": [
      "File is not accessible\n"
     ]
    }
   ],
   "source": [
    "import json\n",
    "\n",
    "#TASK #1        TASK #1     TASK #1     TASK #1     TASK #1     TASK #1\n",
    "#using json to read the file\n",
    "#----the code 0x8f is not defined in CP1252, better to add coding to the \"open\" command\n",
    "purchases = {}\n",
    "try:\n",
    "    with open('purchase_log.txt', encoding='utf-8') as ff:\n",
    "        #to read the first line without doing much with it\n",
    "        line = ff.readline()\n",
    "        for i, line1 in enumerate(ff):\n",
    "            print(f\"Line {i} is being read from file purchase_log.txt\")\n",
    "            line1 = line1.strip()\n",
    "            dict_ = json.loads(line1)\n",
    "            key = dict_['user_id']\n",
    "            val = dict_['category']\n",
    "            purchases.update({key: val})\n",
    "\n",
    "    #for key, val in purchases.items():\n",
    "    #    print(key,' ',val)\n",
    "    \n",
    "except IOError:\n",
    "    print(\"File is not accessible\")"
   ]
  },
  {
   "cell_type": "code",
   "execution_count": 8,
   "metadata": {},
   "outputs": [
    {
     "name": "stdout",
     "output_type": "stream",
     "text": [
      " final i  301\n",
      " final i  301\n"
     ]
    }
   ],
   "source": [
    "#TASK #2        \n",
    "#using json to read the file\n",
    "import json\n",
    "\n",
    "user_id = []\n",
    "category = []\n",
    "with open('purchase_log.txt', encoding='utf-8') as ff:\n",
    "    #to read the first line without doing much with it\n",
    "    line = ff.readline()\n",
    "    for i, line1 in enumerate(ff):\n",
    "        line1 = line1.strip()\n",
    "        dict_ = json.loads(line1)\n",
    "        user_id.append(dict_['user_id'])\n",
    "        category.append(dict_['category'])\n",
    "        #if i>300:\n",
    "        #    print(\" final i \", i)\n",
    "        #    break\n",
    "\n",
    "\n",
    "with open('visit_log.csv', 'r', encoding='utf-8') as ff:\n",
    "    with open('funnel.csv', 'w', encoding='utf-16') as ww:\n",
    "        line = ff.readline()\n",
    "        for i, line1 in enumerate(ff):\n",
    "            line1 = line1.strip().split(',')                            #reading off user_id and other\n",
    "            if line1[0] in user_id:\n",
    "                index1 = user_id.index(line1[0])\n",
    "                #mm = str(category[index1])\n",
    "                line_to_print = str(line1[0]) + \" \\t \" + str(line1[1]) + \" \\t \" + str(category[index1]) + \"\\n\"\n",
    "                ww.write(line_to_print)\n",
    "\n",
    "            #print(\" Current line in file visit_log.csv\", i)\n",
    "\n",
    "\n"
   ]
  },
  {
   "cell_type": "code",
   "execution_count": null,
   "metadata": {},
   "outputs": [],
   "source": []
  }
 ],
 "metadata": {
  "kernelspec": {
   "display_name": "Python 3",
   "language": "python",
   "name": "python3"
  },
  "language_info": {
   "codemirror_mode": {
    "name": "ipython",
    "version": 3
   },
   "file_extension": ".py",
   "mimetype": "text/x-python",
   "name": "python",
   "nbconvert_exporter": "python",
   "pygments_lexer": "ipython3",
   "version": "3.8.5"
  }
 },
 "nbformat": 4,
 "nbformat_minor": 4
}
